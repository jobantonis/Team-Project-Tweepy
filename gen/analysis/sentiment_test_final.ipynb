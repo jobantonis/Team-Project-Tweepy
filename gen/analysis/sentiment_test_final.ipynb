{
 "cells": [
  {
   "cell_type": "code",
   "execution_count": null,
   "metadata": {},
   "outputs": [],
   "source": [
    "#import data file test\n",
    "import pandas as pd\n",
    "tweets = pd.read_csv(\"https://raw.githubusercontent.com/jobantonis/Tweet-collection-and-analysis/main/gen/data-preparation/output/tweet_data_cleaned.csv\", encoding= 'unicode_escape')\n",
    "date = tweets[['Timestamp']]\n",
    "users = tweets[['UserName']]\n",
    "comments = tweets.Comment_clean"
   ]
  },
  {
   "cell_type": "code",
   "execution_count": null,
   "metadata": {},
   "outputs": [],
   "source": [
    "# add comments to dictionary\n",
    "comments.to_dict()"
   ]
  },
  {
   "cell_type": "code",
   "execution_count": null,
   "metadata": {},
   "outputs": [],
   "source": [
    "# install pip, more specifically pattern package, which includes Dutch sentiment analysis\n",
    "!pip install pattern --no-deps"
   ]
  },
  {
   "cell_type": "code",
   "execution_count": null,
   "metadata": {},
   "outputs": [],
   "source": [
    "# Import Dutch sentiment-analysis\n",
    "from pattern.nl import sentiment as sentiment_nl"
   ]
  },
  {
   "cell_type": "code",
   "execution_count": null,
   "metadata": {},
   "outputs": [],
   "source": [
    "# Creating an empty list, then running a sentiment analysis on tweets in a particular range\n",
    "new_comments = list()\n",
    "\n",
    "counter = 0\n",
    "while counter < len(comments):\n",
    "    for comment in comments:\n",
    "        if comment:\n",
    "            polarity_nl, subjectivity_nl = sentiment_nl(comment)\n",
    "            new_comments.append(comment)\n",
    "            new_comments.append(polarity_nl)\n",
    "        counter += 1"
   ]
  },
  {
   "cell_type": "code",
   "execution_count": null,
   "metadata": {},
   "outputs": [],
   "source": [
    "# convert the new_comments list to a dictionary\n",
    "import itertools\n",
    "new_comments_iter = iter(new_comments)\n",
    "new_comments_dict_object = itertools.zip_longest(new_comments_iter, new_comments_iter, fillvalue=None)\n",
    "new_comments_dict = dict(new_comments_dict_object)"
   ]
  },
  {
   "cell_type": "code",
   "execution_count": null,
   "metadata": {},
   "outputs": [],
   "source": [
    "# Creation of final tweet file with all necessary components\n",
    "tweets2 = pd.DataFrame(list(new_comments_dict.items()),columns = ['Comment','Polarity'])\n",
    "tweets_final = tweets2.join(date)\n",
    "final_tweets = tweets_final.join(users)"
   ]
  },
  {
   "cell_type": "code",
   "execution_count": null,
   "metadata": {},
   "outputs": [],
   "source": [
    "#TIMESTAMP ADDED, writes to csv\n",
    "final_tweets = final_tweets[[\"UserName\", \"Timestamp\", \"Comment\", \"Polarity\"]]\n",
    "final_tweets.to_csv (r'tweettest_file.csv', index = False, header=True)"
   ]
  }
 ],
 "metadata": {
  "kernelspec": {
   "display_name": "Python 3",
   "language": "python",
   "name": "python3"
  },
  "language_info": {
   "codemirror_mode": {
    "name": "ipython",
    "version": 3
   },
   "file_extension": ".py",
   "mimetype": "text/x-python",
   "name": "python",
   "nbconvert_exporter": "python",
   "pygments_lexer": "ipython3",
   "version": "3.8.5"
  }
 },
 "nbformat": 4,
 "nbformat_minor": 4
}
