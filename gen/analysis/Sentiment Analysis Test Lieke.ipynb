{
 "cells": [
  {
   "cell_type": "code",
   "execution_count": null,
   "metadata": {},
   "outputs": [],
   "source": [
    "#import data file test\n",
    "open(\"coronavaccin_tweetsuntil%3A2020-03-28%20since%3A2020-03-21.csv\")\n"
   ]
  },
  {
   "cell_type": "code",
   "execution_count": null,
   "metadata": {},
   "outputs": [],
   "source": [
    "# De comments opslaan in een dictionary met post id als key en lijst met comments als value\n",
    "# Het runnen van deze cel kan even duren!\n",
    "tweet = dict()\n",
    "  \n",
    "print(post_with_comments_niet)"
   ]
  },
  {
   "cell_type": "code",
   "execution_count": null,
   "metadata": {},
   "outputs": [],
   "source": [
    "# Installeren van pattern om sentiment-analyse uit te kunnen voeren\n",
    "!pip install pattern --no-deps"
   ]
  },
  {
   "cell_type": "code",
   "execution_count": null,
   "metadata": {},
   "outputs": [],
   "source": [
    "# Import Dutch sentiment-analyse \n",
    "from pattern.nl import sentiment as sentiment_nl"
   ]
  },
  {
   "cell_type": "code",
   "execution_count": null,
   "metadata": {},
   "outputs": [],
   "source": []
  },
  {
   "cell_type": "code",
   "execution_count": null,
   "metadata": {},
   "outputs": [],
   "source": [
    "# Sentiment-analysis on tweets \n",
    "for tweet in post_with_comments_niet.values():\n",
    "    for comment in post:\n",
    "        if comment:\n",
    "            polarity_nl, subjectivity_nl = sentiment_nl(comment)\n",
    "            polarity_en, subjectivity_en = sentiment_en(comment)\n",
    "        print(comment, 'NL', polarity_nl)"
   ]
  },
  {
   "cell_type": "code",
   "execution_count": null,
   "metadata": {},
   "outputs": [],
   "source": [
    "# Polarity scores from sentiment-analysis in lists \n",
    "# can be used for descriptive statistical analysis \n",
    "niet_gesponsorde_posts_nl = list()\n",
    "\n",
    "\n",
    "for post in post_with_comments_niet.values(): \n",
    "    for comment in post:\n",
    "        if comment:\n",
    "            polarity_nl, subjectivity_nl = sentiment_nl(comment)\n",
    "            niet_gesponsorde_posts_nl.append(polarity_nl)\n",
    "            "
   ]
  }
 ],
 "metadata": {
  "kernelspec": {
   "display_name": "Python 3",
   "language": "python",
   "name": "python3"
  },
  "language_info": {
   "codemirror_mode": {
    "name": "ipython",
    "version": 3
   },
   "file_extension": ".py",
   "mimetype": "text/x-python",
   "name": "python",
   "nbconvert_exporter": "python",
   "pygments_lexer": "ipython3",
   "version": "3.8.5"
  }
 },
 "nbformat": 4,
 "nbformat_minor": 4
}
